{
 "cells": [
  {
   "cell_type": "code",
   "execution_count": 1,
   "metadata": {},
   "outputs": [
    {
     "ename": "ModuleNotFoundError",
     "evalue": "No module named 'face_alignment'",
     "output_type": "error",
     "traceback": [
      "\u001b[0;31m---------------------------------------------------------------------------\u001b[0m",
      "\u001b[0;31mModuleNotFoundError\u001b[0m                       Traceback (most recent call last)",
      "\u001b[0;32m<ipython-input-1-0e7bc76b32e1>\u001b[0m in \u001b[0;36m<module>\u001b[0;34m\u001b[0m\n\u001b[0;32m----> 1\u001b[0;31m \u001b[0;32mfrom\u001b[0m \u001b[0mface_alignment\u001b[0m \u001b[0;32mimport\u001b[0m \u001b[0mFaceAlignment\u001b[0m\u001b[0;34m,\u001b[0m\u001b[0mLandmarksType\u001b[0m\u001b[0;34m\u001b[0m\u001b[0;34m\u001b[0m\u001b[0m\n\u001b[0m\u001b[1;32m      2\u001b[0m \u001b[0;32mimport\u001b[0m \u001b[0mos\u001b[0m\u001b[0;34m\u001b[0m\u001b[0;34m\u001b[0m\u001b[0m\n\u001b[1;32m      3\u001b[0m \u001b[0;32mfrom\u001b[0m \u001b[0mglob\u001b[0m \u001b[0;32mimport\u001b[0m \u001b[0mglob\u001b[0m\u001b[0;34m\u001b[0m\u001b[0;34m\u001b[0m\u001b[0m\n\u001b[1;32m      4\u001b[0m \u001b[0;32mimport\u001b[0m \u001b[0mmatplotlib\u001b[0m\u001b[0;34m.\u001b[0m\u001b[0mpyplot\u001b[0m \u001b[0;32mas\u001b[0m \u001b[0mplt\u001b[0m\u001b[0;34m\u001b[0m\u001b[0;34m\u001b[0m\u001b[0m\n\u001b[1;32m      5\u001b[0m \u001b[0;32mimport\u001b[0m \u001b[0mcv2\u001b[0m\u001b[0;34m\u001b[0m\u001b[0;34m\u001b[0m\u001b[0m\n",
      "\u001b[0;31mModuleNotFoundError\u001b[0m: No module named 'face_alignment'"
     ]
    }
   ],
   "source": [
    "from face_alignment import FaceAlignment,LandmarksType\n",
    "import os \n",
    "from glob import glob\n",
    "import matplotlib.pyplot as plt\n",
    "import cv2\n",
    "import numpy as np\n",
    "import PIL\n",
    "import base64 \n",
    "\n",
    "# for display in jupyterhub\n",
    "# from IPython import display\n",
    "vedio_target_path = './test_video.mp4'\n",
    "img_target_path = './test19.jpg'\n",
    "\n",
    "\n",
    "fa = FaceAlignment(LandmarksType._2D, device='cpu')\n",
    "def plot_landmarks(frame, landmarks):\n",
    "#     dpi = config.FEATURES_DPI\n",
    "    dpi=100\n",
    "    fig = plt.figure(figsize=(frame.shape[0] / dpi, frame.shape[1] / dpi), dpi=dpi)\n",
    "    ax = fig.add_subplot(111)\n",
    "    ax.axis('off')\n",
    "    plt.imshow(np.ones(frame.shape))\n",
    "    plt.subplots_adjust(left=0, right=1, top=1, bottom=0)\n",
    "\n",
    "    # Head\n",
    "    ax.plot(landmarks[0:17, 0], landmarks[0:17, 1], linestyle='-', color='green', lw=2)\n",
    "    # Eyebrows\n",
    "    ax.plot(landmarks[17:22, 0], landmarks[17:22, 1], linestyle='-', color='orange', lw=2)\n",
    "    ax.plot(landmarks[22:27, 0], landmarks[22:27, 1], linestyle='-', color='orange', lw=2)\n",
    "    # Nose\n",
    "    ax.plot(landmarks[27:31, 0], landmarks[27:31, 1], linestyle='-', color='blue', lw=2)\n",
    "    ax.plot(landmarks[31:36, 0], landmarks[31:36, 1], linestyle='-', color='blue', lw=2)\n",
    "    # Eyes\n",
    "    ax.plot(landmarks[36:42, 0], landmarks[36:42, 1], linestyle='-', color='red', lw=2)\n",
    "    ax.plot(landmarks[42:48, 0], landmarks[42:48, 1], linestyle='-', color='red', lw=2)\n",
    "    # Mouth\n",
    "    ax.plot(landmarks[48:60, 0], landmarks[48:60, 1], linestyle='-', color='purple', lw=2)\n",
    "\n",
    "    fig.canvas.draw()\n",
    "    data = PIL.Image.frombuffer('RGB', fig.canvas.get_width_height(), fig.canvas.tostring_rgb(), 'raw', 'RGB', 0, 1)\n",
    "    plt.close(fig)\n",
    "#     plt.show()\n",
    "#     display.clear_output(wait=True)\n",
    "    return data\n",
    "\n",
    "\n",
    "def process_img_to_lm(input_img , fa):\n",
    "    target_img_landmark = fa.get_landmarks(input_img)[0]\n",
    "    target_img_lm = plot_landmarks(input_img,target_img_landmark)\n",
    "    target_img_lm = np.array(target_img_lm)\n",
    "    return target_img_lm\n",
    "\n",
    "# cv2 to base64\n",
    "def cv2_base64(image):\n",
    "    base64_str = cv2.imencode('.jpg',image)[1].tostring()\n",
    "    base64_str = base64.b64encode(base64_str)\n",
    "    return base64_str\n",
    "\n",
    "target_img = cv2.imread(img_target_path)\n",
    "res = process_img_to_lm(target_img , fa)\n",
    "# plt.imshow(np.concatenate( (target_img,res) , axis=1) )\n",
    "plt.imshow(res)\n",
    "print(cv2_base64(res))\n"
   ]
  },
  {
   "cell_type": "code",
   "execution_count": null,
   "metadata": {},
   "outputs": [],
   "source": []
  }
 ],
 "metadata": {
  "kernelspec": {
   "display_name": "Python 3",
   "language": "python",
   "name": "python3"
  },
  "language_info": {
   "codemirror_mode": {
    "name": "ipython",
    "version": 3
   },
   "file_extension": ".py",
   "mimetype": "text/x-python",
   "name": "python",
   "nbconvert_exporter": "python",
   "pygments_lexer": "ipython3",
   "version": "3.7.4"
  }
 },
 "nbformat": 4,
 "nbformat_minor": 4
}
