{
 "cells": [
  {
   "cell_type": "code",
   "execution_count": 31,
   "metadata": {},
   "outputs": [],
   "source": [
    "from face_alignment import FaceAlignment,LandmarksType\n",
    "import os \n",
    "from glob import glob\n",
    "import matplotlib.pyplot as plt\n",
    "import cv2\n",
    "import numpy as np\n",
    "import PIL\n",
    "from skimage import io\n",
    "\n",
    "\n",
    "# for display in jupyterhub\n",
    "from IPython import display"
   ]
  },
  {
   "cell_type": "code",
   "execution_count": 21,
   "metadata": {},
   "outputs": [],
   "source": [
    "vedio_target_path = './test_video.mp4'\n",
    "img_target_path = './test9.jpg'"
   ]
  },
  {
   "cell_type": "code",
   "execution_count": 22,
   "metadata": {},
   "outputs": [],
   "source": [
    "fa = FaceAlignment(LandmarksType._2D, device='cpu')"
   ]
  },
  {
   "cell_type": "markdown",
   "metadata": {},
   "source": [
    "## 將圖片轉成landmark"
   ]
  },
  {
   "cell_type": "code",
   "execution_count": 23,
   "metadata": {},
   "outputs": [],
   "source": [
    "\n",
    "fa = FaceAlignment(LandmarksType._2D, device='cpu')\n",
    "def plot_landmarks(frame, landmarks):\n",
    "#     dpi = config.FEATURES_DPI\n",
    "    dpi=100\n",
    "    fig = plt.figure(figsize=(frame.shape[1] / dpi, frame.shape[0] / dpi), dpi=dpi)\n",
    "    ax = fig.add_subplot(111)\n",
    "    ax.axis('off')\n",
    "    plt.imshow(np.ones(frame.shape))\n",
    "    plt.subplots_adjust(left=0, right=1, top=1, bottom=0)\n",
    "\n",
    "    # Head\n",
    "    ax.plot(landmarks[0:17, 0], landmarks[0:17, 1], linestyle='-', color='green', lw=2)\n",
    "    # Eyebrows\n",
    "    ax.plot(landmarks[17:22, 0], landmarks[17:22, 1], linestyle='-', color='orange', lw=2)\n",
    "    ax.plot(landmarks[22:27, 0], landmarks[22:27, 1], linestyle='-', color='orange', lw=2)\n",
    "    # Nose\n",
    "    ax.plot(landmarks[27:31, 0], landmarks[27:31, 1], linestyle='-', color='blue', lw=2)\n",
    "    ax.plot(landmarks[31:36, 0], landmarks[31:36, 1], linestyle='-', color='blue', lw=2)\n",
    "    # Eyes\n",
    "    ax.plot(landmarks[36:42, 0], landmarks[36:42, 1], linestyle='-', color='red', lw=2)\n",
    "    ax.plot(landmarks[42:48, 0], landmarks[42:48, 1], linestyle='-', color='red', lw=2)\n",
    "    # Mouth\n",
    "    ax.plot(landmarks[48:60, 0], landmarks[48:60, 1], linestyle='-', color='purple', lw=2)\n",
    "\n",
    "    fig.canvas.draw()\n",
    "    data = PIL.Image.frombuffer('RGB', fig.canvas.get_width_height(), fig.canvas.tostring_rgb(), 'raw', 'RGB', 0, 1)\n",
    "    plt.close(fig)\n",
    "#     plt.show()\n",
    "#     display.clear_output(wait=True)\n",
    "    return data\n",
    "\n",
    "\n",
    "def process_img_to_lm(input_img , fa):\n",
    "    target_img_landmark = fa.get_landmarks(input_img)[0]\n",
    "    target_img_lm = plot_landmarks(input_img,target_img_landmark)\n",
    "    target_img_lm = np.array(target_img_lm)\n",
    "    return target_img_lm"
   ]
  },
  {
   "cell_type": "code",
   "execution_count": 26,
   "metadata": {},
   "outputs": [
    {
     "data": {
      "text/plain": [
       "<matplotlib.image.AxesImage at 0x1c89662590>"
      ]
     },
     "execution_count": 26,
     "metadata": {},
     "output_type": "execute_result"
    },
    {
     "data": {
      "image/png": "[encoded data removed]",
      "text/plain": [
       "<Figure size 432x288 with 1 Axes>"
      ]
     },
     "metadata": {
      "needs_background": "light"
     },
     "output_type": "display_data"
    }
   ],
   "source": [
    "target_img = cv2.imread(img_target_path)[:,:,::-1]\n",
    "res = process_img_to_lm(target_img , fa)\n",
    "# plt.imshow(np.concatenate( (target_img,res) , axis=1) )\n",
    "plt.imshow(res)\n"
   ]
  },
  {
   "cell_type": "markdown",
   "metadata": {},
   "source": [
    "## 將影片轉成影格圖片 (list)"
   ]
  },
  {
   "cell_type": "code",
   "execution_count": 14,
   "metadata": {},
   "outputs": [],
   "source": [
    "def extract_frame(video):\n",
    "    cap = cv2.VideoCapture(video)\n",
    "    n_frames = int(cap.get(cv2.CAP_PROP_FRAME_COUNT))\n",
    "    fps = cap.get(cv2.CAP_PROP_FPS)\n",
    "    \n",
    "    w , h = int(cap.get(cv2.CAP_PROP_FRAME_WIDTH)) , int(cap.get(cv2.CAP_PROP_FRAME_HEIGHT))\n",
    "    \n",
    "    frames = np.empty((n_frames, h, w, 3), np.dtype('uint8'))\n",
    "    \n",
    "    count_i = 0\n",
    "    while count_i < n_frames:\n",
    "        ret , img = cap.read()\n",
    "        frames[count_i] = cv2.cvtColor(img , cv2.COLOR_BGR2RGB)\n",
    "        \n",
    "        count_i+=1\n",
    "    cap.release()\n",
    "    \n",
    "    return frames , fps"
   ]
  },
  {
   "cell_type": "code",
   "execution_count": 15,
   "metadata": {},
   "outputs": [],
   "source": [
    "imgs , fps = extract_frame(vedio_target_path)"
   ]
  },
  {
   "cell_type": "markdown",
   "metadata": {},
   "source": [
    "## 將frames轉成影片"
   ]
  },
  {
   "cell_type": "code",
   "execution_count": 16,
   "metadata": {},
   "outputs": [],
   "source": [
    "def frame_to_film(img_list , video_write_path ,fps):\n",
    "    frame = img_list[0]\n",
    "    height, width, channel = frame.shape\n",
    "    \n",
    "    video = cv2.VideoWriter(video_write_path, cv2.VideoWriter_fourcc(*'DIVX'), fps , (width,height))\n",
    "    for i in range(len(img_list)):        \n",
    "        video.write(img_list[i][:,:,::-1])   \n",
    "    video.release()\n",
    "    \n",
    "    \n",
    "    "
   ]
  },
  {
   "cell_type": "code",
   "execution_count": 17,
   "metadata": {},
   "outputs": [],
   "source": [
    "frame_to_film(imgs,'./testing.mp4',fps)"
   ]
  },
  {
   "cell_type": "code",
   "execution_count": 19,
   "metadata": {},
   "outputs": [],
   "source": [
    "## 將landmark轉成影片\n",
    "\n",
    "lm_list=[]\n",
    "for image in imgs:\n",
    "    lm_list.append(process_img_to_lm(image,fa))\n",
    "lm_list = np.array(lm_list)\n",
    "\n",
    "frame_to_film(lm_list,'./testing.mp4',fps)\n",
    "    "
   ]
  },
  {
   "cell_type": "code",
   "execution_count": null,
   "metadata": {},
   "outputs": [],
   "source": []
  }
 ],
 "metadata": {
  "kernelspec": {
   "display_name": "Python 3",
   "language": "python",
   "name": "python3"
  },
  "language_info": {
   "codemirror_mode": {
    "name": "ipython",
    "version": 3
   },
   "file_extension": ".py",
   "mimetype": "text/x-python",
   "name": "python",
   "nbconvert_exporter": "python",
   "pygments_lexer": "ipython3",
   "version": "3.7.4"
  }
 },
 "nbformat": 4,
 "nbformat_minor": 4
}
