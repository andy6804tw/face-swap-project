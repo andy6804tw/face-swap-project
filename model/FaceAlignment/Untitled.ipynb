{
 "cells": [
  {
   "cell_type": "code",
   "execution_count": 1,
   "metadata": {},
   "outputs": [
    {
     "name": "stdout",
     "output_type": "stream",
     "text": [
      "Downloading the face detection CNN. Please wait...\n",
      "Downloading the Face Alignment Network(FAN). Please wait...\n",
      "b'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'\n"
     ]
    }
   ],
   "source": [
    "from face_alignment import FaceAlignment,LandmarksType\n",
    "import os \n",
    "from glob import glob\n",
    "import matplotlib.pyplot as plt\n",
    "import cv2\n",
    "import numpy as np\n",
    "import PIL\n",
    "import base64 \n",
    "\n",
    "# for display in jupyterhub\n",
    "# from IPython import display\n",
    "vedio_target_path = './test_video.mp4'\n",
    "img_target_path = './test19.jpg'\n",
    "\n",
    "\n",
    "fa = FaceAlignment(LandmarksType._2D, device='cpu')\n",
    "def plot_landmarks(frame, landmarks):\n",
    "#     dpi = config.FEATURES_DPI\n",
    "    dpi=100\n",
    "    fig = plt.figure(figsize=(frame.shape[0] / dpi, frame.shape[1] / dpi), dpi=dpi)\n",
    "    ax = fig.add_subplot(111)\n",
    "    ax.axis('off')\n",
    "    plt.imshow(np.ones(frame.shape))\n",
    "    plt.subplots_adjust(left=0, right=1, top=1, bottom=0)\n",
    "\n",
    "    # Head\n",
    "    ax.plot(landmarks[0:17, 0], landmarks[0:17, 1], linestyle='-', color='green', lw=2)\n",
    "    # Eyebrows\n",
    "    ax.plot(landmarks[17:22, 0], landmarks[17:22, 1], linestyle='-', color='orange', lw=2)\n",
    "    ax.plot(landmarks[22:27, 0], landmarks[22:27, 1], linestyle='-', color='orange', lw=2)\n",
    "    # Nose\n",
    "    ax.plot(landmarks[27:31, 0], landmarks[27:31, 1], linestyle='-', color='blue', lw=2)\n",
    "    ax.plot(landmarks[31:36, 0], landmarks[31:36, 1], linestyle='-', color='blue', lw=2)\n",
    "    # Eyes\n",
    "    ax.plot(landmarks[36:42, 0], landmarks[36:42, 1], linestyle='-', color='red', lw=2)\n",
    "    ax.plot(landmarks[42:48, 0], landmarks[42:48, 1], linestyle='-', color='red', lw=2)\n",
    "    # Mouth\n",
    "    ax.plot(landmarks[48:60, 0], landmarks[48:60, 1], linestyle='-', color='purple', lw=2)\n",
    "\n",
    "    fig.canvas.draw()\n",
    "    data = PIL.Image.frombuffer('RGB', fig.canvas.get_width_height(), fig.canvas.tostring_rgb(), 'raw', 'RGB', 0, 1)\n",
    "    plt.close(fig)\n",
    "#     plt.show()\n",
    "#     display.clear_output(wait=True)\n",
    "    return data\n",
    "\n",
    "\n",
    "def process_img_to_lm(input_img , fa):\n",
    "    target_img_landmark = fa.get_landmarks(input_img)[0]\n",
    "    target_img_lm = plot_landmarks(input_img,target_img_landmark)\n",
    "    target_img_lm = np.array(target_img_lm)\n",
    "    return target_img_lm\n",
    "\n",
    "# cv2 to base64\n",
    "def cv2_base64(image):\n",
    "    base64_str = cv2.imencode('.jpg',image)[1].tostring()\n",
    "    base64_str = base64.b64encode(base64_str)\n",
    "    return base64_str\n",
    "\n",
    "target_img = cv2.imread(img_target_path)\n",
    "res = process_img_to_lm(target_img , fa)\n",
    "# plt.imshow(np.concatenate( (target_img,res) , axis=1) )\n",
    "plt.imshow(res)\n",
    "print(cv2_base64(res))\n"
   ]
  },
  {
   "cell_type": "code",
   "execution_count": null,
   "metadata": {},
   "outputs": [],
   "source": []
  }
 ],
 "metadata": {
  "kernelspec": {
   "display_name": "Python 3",
   "language": "python",
   "name": "python3"
  },
  "language_info": {
   "codemirror_mode": {
    "name": "ipython",
    "version": 3
   },
   "file_extension": ".py",
   "mimetype": "text/x-python",
   "name": "python",
   "nbconvert_exporter": "python",
   "pygments_lexer": "ipython3",
   "version": "3.7.4"
  }
 },
 "nbformat": 4,
 "nbformat_minor": 4
}
